{
 "cells": [
  {
   "cell_type": "code",
   "execution_count": 123,
   "id": "a8382c6e",
   "metadata": {},
   "outputs": [],
   "source": [
    "import pandas as pd\n",
    "import seaborn as sns\n",
    "import os\n",
    "\n",
    "os.chdir('/media/alexander-phy/Partition/db-public_sector_internships')"
   ]
  },
  {
   "cell_type": "code",
   "execution_count": 124,
   "id": "047a3c43",
   "metadata": {},
   "outputs": [],
   "source": [
    "offers = pd.read_csv('notebooks/offers_data.csv')\n",
    "\n",
    "offers.drop(columns=['current_date_a', 'current_date_b', 'current_date_f', 'current_date'], inplace=True)\n",
    "offers.drop(columns=['id_c', 'id_d', 'id_g', 'id_h'], inplace=True)\n",
    "offers.rename({'current_date_e': 'current_date', 'name': 'organization', 'name_e': 'career', 'name_f': 'city'}, inplace=True, axis=1)"
   ]
  },
  {
   "cell_type": "code",
   "execution_count": 125,
   "id": "f36dc698",
   "metadata": {},
   "outputs": [
    {
     "data": {
      "text/plain": [
       "Index(['Unnamed: 0', 'active', 'career', 'career_id', 'city', 'city_id',\n",
       "       'current_date', 'end_date', 'knowledge', 'offer_id', 'offer_page_code',\n",
       "       'offer_title', 'organization', 'organization_id', 'responsabilities',\n",
       "       'salary', 'specific_location', 'specific_requirements', 'to_apply',\n",
       "       'type', 'url', 'vacants'],\n",
       "      dtype='object')"
      ]
     },
     "execution_count": 125,
     "metadata": {},
     "output_type": "execute_result"
    }
   ],
   "source": [
    "offers.columns.sort_values()"
   ]
  },
  {
   "cell_type": "code",
   "execution_count": null,
   "id": "d510e4fd",
   "metadata": {},
   "outputs": [],
   "source": [
    "# Drop irrelevant information for the analysis\n",
    "offers_cleaned = offers.drop(columns=['offer_page_code', 'city_id', 'organization_id', 'career_id', 'Unnamed: 0'], errors='ignore')\n",
    "\n",
    "# Change datatype object to datetime for current_date \n",
    "offers_cleaned.current_date = pd.to_datetime(offers_cleaned.current_date)\n",
    "\n",
    "# Get month name from current_date and put as another column\n",
    "offers_cleaned['month'] = offers_cleaned.current_date.apply(lambda row: row.month_name())\n"
   ]
  },
  {
   "cell_type": "code",
   "execution_count": 127,
   "id": "509f0107",
   "metadata": {},
   "outputs": [
    {
     "name": "stdout",
     "output_type": "stream",
     "text": [
      "<class 'pandas.core.frame.DataFrame'>\n",
      "RangeIndex: 3384 entries, 0 to 3383\n",
      "Data columns (total 17 columns):\n",
      " #   Column                 Non-Null Count  Dtype  \n",
      "---  ------                 --------------  -----  \n",
      " 0   offer_title            3264 non-null   object \n",
      " 1   vacants                3311 non-null   float64\n",
      " 2   type                   3361 non-null   object \n",
      " 3   to_apply               3384 non-null   object \n",
      " 4   specific_requirements  931 non-null    object \n",
      " 5   knowledge              1753 non-null   object \n",
      " 6   salary                 3193 non-null   float64\n",
      " 7   responsabilities       1404 non-null   object \n",
      " 8   specific_location      3365 non-null   object \n",
      " 9   end_date               3345 non-null   object \n",
      " 10  url                    3384 non-null   object \n",
      " 11  current_date           3384 non-null   object \n",
      " 12  active                 3384 non-null   int64  \n",
      " 13  offer_id               3384 non-null   int64  \n",
      " 14  career                 3378 non-null   object \n",
      " 15  city                   3384 non-null   object \n",
      " 16  organization           3384 non-null   object \n",
      "dtypes: float64(2), int64(2), object(13)\n",
      "memory usage: 449.6+ KB\n"
     ]
    }
   ],
   "source": [
    "offers_cleaned.info()"
   ]
  },
  {
   "cell_type": "code",
   "execution_count": 137,
   "id": "3f9a2ca4",
   "metadata": {},
   "outputs": [],
   "source": [
    "def funct(series: pd.Series):\n",
    "    return series.apply(lambda row: [row])"
   ]
  },
  {
   "cell_type": "code",
   "execution_count": null,
   "id": "1d72cfaf",
   "metadata": {},
   "outputs": [
    {
     "data": {
      "application/vnd.microsoft.datawrangler.viewer.v0+json": {
       "columns": [
        {
         "name": "offer_id",
         "rawType": "int64",
         "type": "integer"
        },
        {
         "name": "career",
         "rawType": "object",
         "type": "unknown"
        }
       ],
       "ref": "57f92cdc-5230-4ee6-9d31-d94c280d365f",
       "rows": [
        [
         "1",
         "DERECHO"
        ],
        [
         "2",
         "PSICOLOGÍA"
        ],
        [
         "3",
         "ADMINISTRACIÓN"
        ],
        [
         "4",
         "ADMINISTRACIÓN"
        ],
        [
         "5",
         "ADMINISTRACIÓN"
        ],
        [
         "6",
         "ADMINISTRACIÓN"
        ],
        [
         "7",
         "CIENCIAS DE LA COMUNICACIÓN"
        ],
        [
         "8",
         "INGENIERÍA AGROPECUARIA"
        ],
        [
         "9",
         "DERECHO"
        ],
        [
         "10",
         "ADMINISTRACIÓN"
        ],
        [
         "11",
         "DERECHO"
        ],
        [
         "12",
         "DERECHO"
        ],
        [
         "13",
         "DERECHO"
        ],
        [
         "14",
         "ADMINISTRACIÓN"
        ],
        [
         "15",
         "DERECHO"
        ],
        [
         "16",
         "DERECHO"
        ],
        [
         "17",
         "DERECHO"
        ],
        [
         "18",
         "ADMINISTRACIÓN"
        ],
        [
         "19",
         "DERECHO"
        ],
        [
         "20",
         "DERECHO"
        ],
        [
         "21",
         "DERECHO"
        ],
        [
         "22",
         "DERECHO"
        ],
        [
         "23",
         "DERECHO"
        ],
        [
         "24",
         "ADMINISTRACIÓN"
        ],
        [
         "25",
         "CIENCIAS DE LA COMUNICACIÓN SOCIAL"
        ],
        [
         "26",
         "DERECHO"
        ],
        [
         "27",
         "DERECHO"
        ],
        [
         "28",
         "ADMINISTRACIÓN"
        ],
        [
         "29",
         "DISEÑO GRÁFICO"
        ],
        [
         "30",
         "CIENCIAS DE LA COMUNICACIÓN SOCIAL"
        ],
        [
         "31",
         "ADMINISTRACIÓN"
        ],
        [
         "32",
         "ECONOMÍA"
        ],
        [
         "33",
         "ADMINISTRACIÓN"
        ],
        [
         "34",
         "INGENIERÍA AMBIENTAL"
        ],
        [
         "35",
         "ADMINISTRACIÓN"
        ],
        [
         "36",
         "CONTABILIDAD"
        ],
        [
         "37",
         "DERECHO"
        ],
        [
         "38",
         "DERECHO"
        ],
        [
         "39",
         "ADMINISTRACIÓN"
        ],
        [
         "40",
         "ADMINISTRACIÓN"
        ],
        [
         "41",
         "ADMINISTRACIÓN"
        ],
        [
         "42",
         "DERECHO"
        ],
        [
         "43",
         "INGENIERÍA CIVIL"
        ],
        [
         "44",
         "DERECHO"
        ],
        [
         "45",
         "DERECHO"
        ],
        [
         "47",
         "DERECHO"
        ],
        [
         "48",
         "INGENIERÍA CIVIL"
        ],
        [
         "50",
         "DERECHO"
        ],
        [
         "51",
         "ADMINISTRACIÓN"
        ],
        [
         "52",
         "DERECHO"
        ]
       ],
       "shape": {
        "columns": 1,
        "rows": 1585
       }
      },
      "text/plain": [
       "offer_id\n",
       "1                          DERECHO\n",
       "2                       PSICOLOGÍA\n",
       "3                   ADMINISTRACIÓN\n",
       "4                   ADMINISTRACIÓN\n",
       "5                   ADMINISTRACIÓN\n",
       "                   ...            \n",
       "1599    ADMINISTRACIÓN DE EMPRESAS\n",
       "1600        SECRETARIADO EJECUTIVO\n",
       "1601                  CONTABILIDAD\n",
       "1603    ADMINISTRACIÓN DE EMPRESAS\n",
       "1605        SECRETARIADO EJECUTIVO\n",
       "Name: career, Length: 1585, dtype: object"
      ]
     },
     "execution_count": 141,
     "metadata": {},
     "output_type": "execute_result"
    }
   ],
   "source": [
    "offers_cleaned.groupby('offer_id')['career']."
   ]
  },
  {
   "cell_type": "code",
   "execution_count": null,
   "id": "3fe6d5b6",
   "metadata": {},
   "outputs": [
    {
     "data": {
      "text/plain": [
       "<pandas.core.strings.accessor.StringMethods at 0x769e68ef23b0>"
      ]
     },
     "execution_count": 136,
     "metadata": {},
     "output_type": "execute_result"
    }
   ],
   "source": [
    "test = pd.Series(['hola', 'mi', 'arnes'])\n",
    "\n",
    "test.str.\n"
   ]
  },
  {
   "cell_type": "code",
   "execution_count": 115,
   "id": "c10d51a2",
   "metadata": {},
   "outputs": [
    {
     "data": {
      "application/vnd.microsoft.datawrangler.viewer.v0+json": {
       "columns": [
        {
         "name": "month",
         "rawType": "object",
         "type": "string"
        },
        {
         "name": "month",
         "rawType": "int64",
         "type": "integer"
        }
       ],
       "ref": "1a5a01cf-2cc1-456c-802d-10a90eb50a15",
       "rows": [
        [
         "April",
         "1111"
        ],
        [
         "June",
         "340"
        ],
        [
         "March",
         "510"
        ],
        [
         "May",
         "1423"
        ]
       ],
       "shape": {
        "columns": 1,
        "rows": 4
       }
      },
      "text/plain": [
       "month\n",
       "April    1111\n",
       "June      340\n",
       "March     510\n",
       "May      1423\n",
       "Name: month, dtype: int64"
      ]
     },
     "execution_count": 115,
     "metadata": {},
     "output_type": "execute_result"
    }
   ],
   "source": [
    "a = offers_cleaned.groupby('month')['month'].count()\n",
    "a"
   ]
  },
  {
   "cell_type": "code",
   "execution_count": 117,
   "id": "dd087693",
   "metadata": {},
   "outputs": [
    {
     "data": {
      "text/plain": [
       "<Axes: xlabel='month', ylabel='month'>"
      ]
     },
     "execution_count": 117,
     "metadata": {},
     "output_type": "execute_result"
    },
    {
     "data": {
      "image/png": "[encoded data removed]",
      "text/plain": [
       "<Figure size 640x480 with 1 Axes>"
      ]
     },
     "metadata": {},
     "output_type": "display_data"
    }
   ],
   "source": [
    "sns.barplot(data=a, order=['March', 'April', 'May', 'June'])"
   ]
  }
 ],
 "metadata": {
  "kernelspec": {
   "display_name": "venv",
   "language": "python",
   "name": "python3"
  },
  "language_info": {
   "codemirror_mode": {
    "name": "ipython",
    "version": 3
   },
   "file_extension": ".py",
   "mimetype": "text/x-python",
   "name": "python",
   "nbconvert_exporter": "python",
   "pygments_lexer": "ipython3",
   "version": "3.10.12"
  }
 },
 "nbformat": 4,
 "nbformat_minor": 5
}
